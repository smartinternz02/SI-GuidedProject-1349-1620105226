{
 "cells": [
  {
   "cell_type": "code",
   "execution_count": 80,
   "metadata": {},
   "outputs": [],
   "source": [
    "import numpy as np\n",
    "import pandas as pd"
   ]
  },
  {
   "cell_type": "code",
   "execution_count": 81,
   "metadata": {},
   "outputs": [],
   "source": [
    "dataset = pd.read_csv(r\"E:\\Fish.csv\")"
   ]
  },
  {
   "cell_type": "code",
   "execution_count": 82,
   "metadata": {},
   "outputs": [
    {
     "data": {
      "text/html": [
       "<div>\n",
       "<style scoped>\n",
       "    .dataframe tbody tr th:only-of-type {\n",
       "        vertical-align: middle;\n",
       "    }\n",
       "\n",
       "    .dataframe tbody tr th {\n",
       "        vertical-align: top;\n",
       "    }\n",
       "\n",
       "    .dataframe thead th {\n",
       "        text-align: right;\n",
       "    }\n",
       "</style>\n",
       "<table border=\"1\" class=\"dataframe\">\n",
       "  <thead>\n",
       "    <tr style=\"text-align: right;\">\n",
       "      <th></th>\n",
       "      <th>Species</th>\n",
       "      <th>Weight</th>\n",
       "      <th>Length1</th>\n",
       "      <th>Length2</th>\n",
       "      <th>Length3</th>\n",
       "      <th>Height</th>\n",
       "      <th>Width</th>\n",
       "    </tr>\n",
       "  </thead>\n",
       "  <tbody>\n",
       "    <tr>\n",
       "      <th>0</th>\n",
       "      <td>Bream</td>\n",
       "      <td>242.0</td>\n",
       "      <td>23.2</td>\n",
       "      <td>25.4</td>\n",
       "      <td>30.0</td>\n",
       "      <td>11.5200</td>\n",
       "      <td>4.0200</td>\n",
       "    </tr>\n",
       "    <tr>\n",
       "      <th>1</th>\n",
       "      <td>Bream</td>\n",
       "      <td>290.0</td>\n",
       "      <td>24.0</td>\n",
       "      <td>26.3</td>\n",
       "      <td>31.2</td>\n",
       "      <td>12.4800</td>\n",
       "      <td>4.3056</td>\n",
       "    </tr>\n",
       "    <tr>\n",
       "      <th>2</th>\n",
       "      <td>Bream</td>\n",
       "      <td>340.0</td>\n",
       "      <td>23.9</td>\n",
       "      <td>26.5</td>\n",
       "      <td>31.1</td>\n",
       "      <td>12.3778</td>\n",
       "      <td>4.6961</td>\n",
       "    </tr>\n",
       "    <tr>\n",
       "      <th>3</th>\n",
       "      <td>Bream</td>\n",
       "      <td>363.0</td>\n",
       "      <td>26.3</td>\n",
       "      <td>29.0</td>\n",
       "      <td>33.5</td>\n",
       "      <td>12.7300</td>\n",
       "      <td>4.4555</td>\n",
       "    </tr>\n",
       "    <tr>\n",
       "      <th>4</th>\n",
       "      <td>Bream</td>\n",
       "      <td>430.0</td>\n",
       "      <td>26.5</td>\n",
       "      <td>29.0</td>\n",
       "      <td>34.0</td>\n",
       "      <td>12.4440</td>\n",
       "      <td>5.1340</td>\n",
       "    </tr>\n",
       "  </tbody>\n",
       "</table>\n",
       "</div>"
      ],
      "text/plain": [
       "  Species  Weight  Length1  Length2  Length3   Height   Width\n",
       "0   Bream   242.0     23.2     25.4     30.0  11.5200  4.0200\n",
       "1   Bream   290.0     24.0     26.3     31.2  12.4800  4.3056\n",
       "2   Bream   340.0     23.9     26.5     31.1  12.3778  4.6961\n",
       "3   Bream   363.0     26.3     29.0     33.5  12.7300  4.4555\n",
       "4   Bream   430.0     26.5     29.0     34.0  12.4440  5.1340"
      ]
     },
     "execution_count": 82,
     "metadata": {},
     "output_type": "execute_result"
    }
   ],
   "source": [
    "dataset.head()"
   ]
  },
  {
   "cell_type": "code",
   "execution_count": 83,
   "metadata": {},
   "outputs": [
    {
     "data": {
      "text/plain": [
       "Species    False\n",
       "Weight     False\n",
       "Length1    False\n",
       "Length2    False\n",
       "Length3    False\n",
       "Height     False\n",
       "Width      False\n",
       "dtype: bool"
      ]
     },
     "execution_count": 83,
     "metadata": {},
     "output_type": "execute_result"
    }
   ],
   "source": [
    "dataset.isnull().any()"
   ]
  },
  {
   "cell_type": "code",
   "execution_count": 84,
   "metadata": {},
   "outputs": [],
   "source": [
    "x = dataset.iloc[:,2:6].values\n",
    "y = dataset.iloc[:,1].values"
   ]
  },
  {
   "cell_type": "code",
   "execution_count": 85,
   "metadata": {},
   "outputs": [
    {
     "data": {
      "text/plain": [
       "array([[23.2   , 25.4   , 30.    , 11.52  ],\n",
       "       [24.    , 26.3   , 31.2   , 12.48  ],\n",
       "       [23.9   , 26.5   , 31.1   , 12.3778],\n",
       "       [26.3   , 29.    , 33.5   , 12.73  ],\n",
       "       [26.5   , 29.    , 34.    , 12.444 ],\n",
       "       [26.8   , 29.7   , 34.7   , 13.6024],\n",
       "       [26.8   , 29.7   , 34.5   , 14.1795],\n",
       "       [27.6   , 30.    , 35.    , 12.67  ],\n",
       "       [27.6   , 30.    , 35.1   , 14.0049],\n",
       "       [28.5   , 30.7   , 36.2   , 14.2266],\n",
       "       [28.4   , 31.    , 36.2   , 14.2628],\n",
       "       [28.7   , 31.    , 36.2   , 14.3714],\n",
       "       [29.1   , 31.5   , 36.4   , 13.7592],\n",
       "       [29.5   , 32.    , 37.3   , 13.9129],\n",
       "       [29.4   , 32.    , 37.2   , 14.9544],\n",
       "       [29.4   , 32.    , 37.2   , 15.438 ],\n",
       "       [30.4   , 33.    , 38.3   , 14.8604],\n",
       "       [30.4   , 33.    , 38.5   , 14.938 ],\n",
       "       [30.9   , 33.5   , 38.6   , 15.633 ],\n",
       "       [31.    , 33.5   , 38.7   , 14.4738],\n",
       "       [31.3   , 34.    , 39.5   , 15.1285],\n",
       "       [31.4   , 34.    , 39.2   , 15.9936],\n",
       "       [31.5   , 34.5   , 39.7   , 15.5227],\n",
       "       [31.8   , 35.    , 40.6   , 15.4686],\n",
       "       [31.9   , 35.    , 40.5   , 16.2405],\n",
       "       [31.8   , 35.    , 40.9   , 16.36  ],\n",
       "       [32.    , 35.    , 40.6   , 16.3618],\n",
       "       [32.7   , 36.    , 41.5   , 16.517 ],\n",
       "       [32.8   , 36.    , 41.6   , 16.8896],\n",
       "       [33.5   , 37.    , 42.6   , 18.957 ],\n",
       "       [35.    , 38.5   , 44.1   , 18.0369],\n",
       "       [35.    , 38.5   , 44.    , 18.084 ],\n",
       "       [36.2   , 39.5   , 45.3   , 18.7542],\n",
       "       [37.4   , 41.    , 45.9   , 18.6354],\n",
       "       [38.    , 41.    , 46.5   , 17.6235],\n",
       "       [12.9   , 14.1   , 16.2   ,  4.1472],\n",
       "       [16.5   , 18.2   , 20.3   ,  5.2983],\n",
       "       [17.5   , 18.8   , 21.2   ,  5.5756],\n",
       "       [18.2   , 19.8   , 22.2   ,  5.6166],\n",
       "       [18.6   , 20.    , 22.2   ,  6.216 ],\n",
       "       [19.    , 20.5   , 22.8   ,  6.4752],\n",
       "       [19.1   , 20.8   , 23.1   ,  6.1677],\n",
       "       [19.4   , 21.    , 23.7   ,  6.1146],\n",
       "       [20.4   , 22.    , 24.7   ,  5.8045],\n",
       "       [20.5   , 22.    , 24.3   ,  6.6339],\n",
       "       [20.5   , 22.5   , 25.3   ,  7.0334],\n",
       "       [21.    , 22.5   , 25.    ,  6.55  ],\n",
       "       [21.1   , 22.5   , 25.    ,  6.4   ],\n",
       "       [22.    , 24.    , 27.2   ,  7.5344],\n",
       "       [22.    , 23.4   , 26.7   ,  6.9153],\n",
       "       [22.1   , 23.5   , 26.8   ,  7.3968],\n",
       "       [23.6   , 25.2   , 27.9   ,  7.0866],\n",
       "       [24.    , 26.    , 29.2   ,  8.8768],\n",
       "       [25.    , 27.    , 30.6   ,  8.568 ],\n",
       "       [29.5   , 31.7   , 35.    ,  9.485 ],\n",
       "       [23.6   , 26.    , 28.7   ,  8.3804],\n",
       "       [24.1   , 26.5   , 29.3   ,  8.1454],\n",
       "       [25.6   , 28.    , 30.8   ,  8.778 ],\n",
       "       [28.5   , 31.    , 34.    , 10.744 ],\n",
       "       [33.7   , 36.4   , 39.6   , 11.7612],\n",
       "       [37.3   , 40.    , 43.5   , 12.354 ],\n",
       "       [13.5   , 14.7   , 16.5   ,  6.8475],\n",
       "       [14.3   , 15.5   , 17.4   ,  6.5772],\n",
       "       [16.3   , 17.7   , 19.8   ,  7.4052],\n",
       "       [17.5   , 19.    , 21.3   ,  8.3922],\n",
       "       [18.4   , 20.    , 22.4   ,  8.8928],\n",
       "       [19.    , 20.7   , 23.2   ,  8.5376],\n",
       "       [19.    , 20.7   , 23.2   ,  9.396 ],\n",
       "       [19.8   , 21.5   , 24.1   ,  9.7364],\n",
       "       [21.2   , 23.    , 25.8   , 10.3458],\n",
       "       [23.    , 25.    , 28.    , 11.088 ],\n",
       "       [24.    , 26.    , 29.    , 11.368 ],\n",
       "       [ 7.5   ,  8.4   ,  8.8   ,  2.112 ],\n",
       "       [12.5   , 13.7   , 14.7   ,  3.528 ],\n",
       "       [13.8   , 15.    , 16.    ,  3.824 ],\n",
       "       [15.    , 16.2   , 17.2   ,  4.5924],\n",
       "       [15.7   , 17.4   , 18.5   ,  4.588 ],\n",
       "       [16.2   , 18.    , 19.2   ,  5.2224],\n",
       "       [16.8   , 18.7   , 19.4   ,  5.1992],\n",
       "       [17.2   , 19.    , 20.2   ,  5.6358],\n",
       "       [17.8   , 19.6   , 20.8   ,  5.1376],\n",
       "       [18.2   , 20.    , 21.    ,  5.082 ],\n",
       "       [19.    , 21.    , 22.5   ,  5.6925],\n",
       "       [19.    , 21.    , 22.5   ,  5.9175],\n",
       "       [19.    , 21.    , 22.5   ,  5.6925],\n",
       "       [19.3   , 21.3   , 22.8   ,  6.384 ],\n",
       "       [20.    , 22.    , 23.5   ,  6.11  ],\n",
       "       [20.    , 22.    , 23.5   ,  5.64  ],\n",
       "       [20.    , 22.    , 23.5   ,  6.11  ],\n",
       "       [20.    , 22.    , 23.5   ,  5.875 ],\n",
       "       [20.    , 22.    , 23.5   ,  5.5225],\n",
       "       [20.5   , 22.5   , 24.    ,  5.856 ],\n",
       "       [20.5   , 22.5   , 24.    ,  6.792 ],\n",
       "       [20.7   , 22.7   , 24.2   ,  5.9532],\n",
       "       [21.    , 23.    , 24.5   ,  5.2185],\n",
       "       [21.5   , 23.5   , 25.    ,  6.275 ],\n",
       "       [22.    , 24.    , 25.5   ,  7.293 ],\n",
       "       [22.    , 24.    , 25.5   ,  6.375 ],\n",
       "       [22.6   , 24.6   , 26.2   ,  6.7334],\n",
       "       [23.    , 25.    , 26.5   ,  6.4395],\n",
       "       [23.5   , 25.6   , 27.    ,  6.561 ],\n",
       "       [25.    , 26.5   , 28.    ,  7.168 ],\n",
       "       [25.2   , 27.3   , 28.7   ,  8.323 ],\n",
       "       [25.4   , 27.5   , 28.9   ,  7.1672],\n",
       "       [25.4   , 27.5   , 28.9   ,  7.0516],\n",
       "       [25.4   , 27.5   , 28.9   ,  7.2828],\n",
       "       [25.9   , 28.    , 29.4   ,  7.8204],\n",
       "       [26.9   , 28.7   , 30.1   ,  7.5852],\n",
       "       [27.8   , 30.    , 31.6   ,  7.6156],\n",
       "       [30.5   , 32.8   , 34.    , 10.03  ],\n",
       "       [32.    , 34.5   , 36.5   , 10.2565],\n",
       "       [32.5   , 35.    , 37.3   , 11.4884],\n",
       "       [34.    , 36.5   , 39.    , 10.881 ],\n",
       "       [34.    , 36.    , 38.3   , 10.6091],\n",
       "       [34.5   , 37.    , 39.4   , 10.835 ],\n",
       "       [34.6   , 37.    , 39.3   , 10.5717],\n",
       "       [36.5   , 39.    , 41.4   , 11.1366],\n",
       "       [36.5   , 39.    , 41.4   , 11.1366],\n",
       "       [36.6   , 39.    , 41.3   , 12.4313],\n",
       "       [36.9   , 40.    , 42.3   , 11.9286],\n",
       "       [37.    , 40.    , 42.5   , 11.73  ],\n",
       "       [37.    , 40.    , 42.4   , 12.3808],\n",
       "       [37.1   , 40.    , 42.5   , 11.135 ],\n",
       "       [39.    , 42.    , 44.6   , 12.8002],\n",
       "       [39.8   , 43.    , 45.2   , 11.9328],\n",
       "       [40.1   , 43.    , 45.5   , 12.5125],\n",
       "       [40.2   , 43.5   , 46.    , 12.604 ],\n",
       "       [41.1   , 44.    , 46.6   , 12.4888],\n",
       "       [30.    , 32.3   , 34.8   ,  5.568 ],\n",
       "       [31.7   , 34.    , 37.8   ,  5.7078],\n",
       "       [32.7   , 35.    , 38.8   ,  5.9364],\n",
       "       [34.8   , 37.3   , 39.8   ,  6.2884],\n",
       "       [35.5   , 38.    , 40.5   ,  7.29  ],\n",
       "       [36.    , 38.5   , 41.    ,  6.396 ],\n",
       "       [40.    , 42.5   , 45.5   ,  7.28  ],\n",
       "       [40.    , 42.5   , 45.5   ,  6.825 ],\n",
       "       [40.1   , 43.    , 45.8   ,  7.786 ],\n",
       "       [42.    , 45.    , 48.    ,  6.96  ],\n",
       "       [43.2   , 46.    , 48.7   ,  7.792 ],\n",
       "       [44.8   , 48.    , 51.2   ,  7.68  ],\n",
       "       [48.3   , 51.7   , 55.1   ,  8.9262],\n",
       "       [52.    , 56.    , 59.7   , 10.6863],\n",
       "       [56.    , 60.    , 64.    ,  9.6   ],\n",
       "       [56.    , 60.    , 64.    ,  9.6   ],\n",
       "       [59.    , 63.4   , 68.    , 10.812 ],\n",
       "       [ 9.3   ,  9.8   , 10.8   ,  1.7388],\n",
       "       [10.    , 10.5   , 11.6   ,  1.972 ],\n",
       "       [10.1   , 10.6   , 11.6   ,  1.7284],\n",
       "       [10.4   , 11.    , 12.    ,  2.196 ],\n",
       "       [10.7   , 11.2   , 12.4   ,  2.0832],\n",
       "       [10.8   , 11.3   , 12.6   ,  1.9782],\n",
       "       [11.3   , 11.8   , 13.1   ,  2.2139],\n",
       "       [11.3   , 11.8   , 13.1   ,  2.2139],\n",
       "       [11.4   , 12.    , 13.2   ,  2.2044],\n",
       "       [11.5   , 12.2   , 13.4   ,  2.0904],\n",
       "       [11.7   , 12.4   , 13.5   ,  2.43  ],\n",
       "       [12.1   , 13.    , 13.8   ,  2.277 ],\n",
       "       [13.2   , 14.3   , 15.2   ,  2.8728],\n",
       "       [13.8   , 15.    , 16.2   ,  2.9322]])"
      ]
     },
     "execution_count": 85,
     "metadata": {},
     "output_type": "execute_result"
    }
   ],
   "source": [
    "x"
   ]
  },
  {
   "cell_type": "code",
   "execution_count": 86,
   "metadata": {},
   "outputs": [
    {
     "data": {
      "text/plain": [
       "array([ 242. ,  290. ,  340. ,  363. ,  430. ,  450. ,  500. ,  390. ,\n",
       "        450. ,  500. ,  475. ,  500. ,  500. ,  340. ,  600. ,  600. ,\n",
       "        700. ,  700. ,  610. ,  650. ,  575. ,  685. ,  620. ,  680. ,\n",
       "        700. ,  725. ,  720. ,  714. ,  850. , 1000. ,  920. ,  955. ,\n",
       "        925. ,  975. ,  950. ,   40. ,   69. ,   78. ,   87. ,  120. ,\n",
       "          0. ,  110. ,  120. ,  150. ,  145. ,  160. ,  140. ,  160. ,\n",
       "        169. ,  161. ,  200. ,  180. ,  290. ,  272. ,  390. ,  270. ,\n",
       "        270. ,  306. ,  540. ,  800. , 1000. ,   55. ,   60. ,   90. ,\n",
       "        120. ,  150. ,  140. ,  170. ,  145. ,  200. ,  273. ,  300. ,\n",
       "          5.9,   32. ,   40. ,   51.5,   70. ,  100. ,   78. ,   80. ,\n",
       "         85. ,   85. ,  110. ,  115. ,  125. ,  130. ,  120. ,  120. ,\n",
       "        130. ,  135. ,  110. ,  130. ,  150. ,  145. ,  150. ,  170. ,\n",
       "        225. ,  145. ,  188. ,  180. ,  197. ,  218. ,  300. ,  260. ,\n",
       "        265. ,  250. ,  250. ,  300. ,  320. ,  514. ,  556. ,  840. ,\n",
       "        685. ,  700. ,  700. ,  690. ,  900. ,  650. ,  820. ,  850. ,\n",
       "        900. , 1015. ,  820. , 1100. , 1000. , 1100. , 1000. , 1000. ,\n",
       "        200. ,  300. ,  300. ,  300. ,  430. ,  345. ,  456. ,  510. ,\n",
       "        540. ,  500. ,  567. ,  770. ,  950. , 1250. , 1600. , 1550. ,\n",
       "       1650. ,    6.7,    7.5,    7. ,    9.7,    9.8,    8.7,   10. ,\n",
       "          9.9,    9.8,   12.2,   13.4,   12.2,   19.7,   19.9])"
      ]
     },
     "execution_count": 86,
     "metadata": {},
     "output_type": "execute_result"
    }
   ],
   "source": [
    "y"
   ]
  },
  {
   "cell_type": "code",
   "execution_count": 87,
   "metadata": {},
   "outputs": [
    {
     "data": {
      "text/plain": [
       "(159, 4)"
      ]
     },
     "execution_count": 87,
     "metadata": {},
     "output_type": "execute_result"
    }
   ],
   "source": [
    "x.shape"
   ]
  },
  {
   "cell_type": "code",
   "execution_count": 88,
   "metadata": {},
   "outputs": [
    {
     "name": "stderr",
     "output_type": "stream",
     "text": [
      "C:\\Users\\User\\Music\\New folder\\lib\\site-packages\\sklearn\\preprocessing\\_encoders.py:415: FutureWarning: The handling of integer data will change in version 0.22. Currently, the categories are determined based on the range [0, max(values)], while in the future they will be determined based on the unique values.\n",
      "If you want the future behaviour and silence this warning, you can specify \"categories='auto'\".\n",
      "In case you used a LabelEncoder before this OneHotEncoder to convert the categories to integers, then you can now use the OneHotEncoder directly.\n",
      "  warnings.warn(msg, FutureWarning)\n"
     ]
    }
   ],
   "source": [
    "from sklearn.preprocessing import OneHotEncoder\n",
    "from sklearn.compose import ColumnTransformer\n",
    "ct = ColumnTransformer([(\"oh\",OneHotEncoder(),[3])],remainder = \"passthrough\")\n",
    "x = ct.fit_transform(x)"
   ]
  },
  {
   "cell_type": "code",
   "execution_count": 89,
   "metadata": {},
   "outputs": [
    {
     "data": {
      "text/plain": [
       "<159x21 sparse matrix of type '<class 'numpy.float64'>'\n",
       "\twith 636 stored elements in Compressed Sparse Row format>"
      ]
     },
     "execution_count": 89,
     "metadata": {},
     "output_type": "execute_result"
    }
   ],
   "source": [
    "x"
   ]
  },
  {
   "cell_type": "code",
   "execution_count": 90,
   "metadata": {},
   "outputs": [
    {
     "data": {
      "text/plain": [
       "(159, 21)"
      ]
     },
     "execution_count": 90,
     "metadata": {},
     "output_type": "execute_result"
    }
   ],
   "source": [
    "x.shape"
   ]
  },
  {
   "cell_type": "code",
   "execution_count": 91,
   "metadata": {},
   "outputs": [],
   "source": [
    "from sklearn.model_selection import train_test_split\n",
    "x_train,x_test,y_train,y_test = train_test_split(x,y,test_size = 0.2,random_state = 0)"
   ]
  },
  {
   "cell_type": "code",
   "execution_count": 92,
   "metadata": {},
   "outputs": [
    {
     "data": {
      "text/plain": [
       "LinearRegression(copy_X=True, fit_intercept=True, n_jobs=None, normalize=False)"
      ]
     },
     "execution_count": 92,
     "metadata": {},
     "output_type": "execute_result"
    }
   ],
   "source": [
    "from sklearn.linear_model import LinearRegression\n",
    "mlr = LinearRegression()\n",
    "mlr.fit(x_train,y_train)"
   ]
  },
  {
   "cell_type": "code",
   "execution_count": 93,
   "metadata": {},
   "outputs": [],
   "source": [
    "ypred = mlr.predict(x_test)"
   ]
  },
  {
   "cell_type": "code",
   "execution_count": 94,
   "metadata": {},
   "outputs": [
    {
     "data": {
      "text/plain": [
       "array([ 479.57358839,   31.5271653 ,  157.52421709,   43.62188615,\n",
       "        641.16601144,  811.17948561,  671.2376366 ,  495.11745089,\n",
       "       1064.79271807,  111.60295973,  379.10570057,  605.204138  ,\n",
       "        849.2868512 ,  999.82885299,  -87.38117241,    5.33310089,\n",
       "         74.89513333, 1300.61029118,   93.91786397,  750.00762542,\n",
       "       -104.9189116 ,  541.24928459,  114.15624906, 1310.53444671,\n",
       "        -49.44434385,  534.45444748,  754.5047423 ,  279.12655354,\n",
       "        821.26844627,  -17.59682375,  628.95980224,  140.51493842])"
      ]
     },
     "execution_count": 94,
     "metadata": {},
     "output_type": "execute_result"
    }
   ],
   "source": [
    "ypred"
   ]
  },
  {
   "cell_type": "code",
   "execution_count": 95,
   "metadata": {},
   "outputs": [
    {
     "data": {
      "text/plain": [
       "array([ 390. ,    0. ,  170. ,  160. ,  556. ,  900. ,  800. ,  300. ,\n",
       "        975. ,  115. ,  200. ,  456. , 1000. , 1000. ,   60. ,   78. ,\n",
       "        145. , 1600. ,  130. ,  720. ,   55. ,  390. ,  120. , 1650. ,\n",
       "         90. ,  450. ,  700. ,  270. ,  850. ,    9.7,  650. ,  110. ])"
      ]
     },
     "execution_count": 95,
     "metadata": {},
     "output_type": "execute_result"
    }
   ],
   "source": [
    "y_test"
   ]
  },
  {
   "cell_type": "code",
   "execution_count": 96,
   "metadata": {},
   "outputs": [
    {
     "data": {
      "text/plain": [
       "<32x21 sparse matrix of type '<class 'numpy.float64'>'\n",
       "\twith 128 stored elements in Compressed Sparse Row format>"
      ]
     },
     "execution_count": 96,
     "metadata": {},
     "output_type": "execute_result"
    }
   ],
   "source": [
    "x_test"
   ]
  },
  {
   "cell_type": "code",
   "execution_count": 97,
   "metadata": {},
   "outputs": [],
   "source": [
    "from sklearn.metrics import r2_score\n",
    "accuracy = r2_score(ypred,y_test)"
   ]
  },
  {
   "cell_type": "code",
   "execution_count": 98,
   "metadata": {},
   "outputs": [
    {
     "data": {
      "text/plain": [
       "0.9048008537735334"
      ]
     },
     "execution_count": 98,
     "metadata": {},
     "output_type": "execute_result"
    }
   ],
   "source": [
    "accuracy"
   ]
  },
  {
   "cell_type": "code",
   "execution_count": 99,
   "metadata": {},
   "outputs": [
    {
     "data": {
      "text/html": [
       "<div>\n",
       "<style scoped>\n",
       "    .dataframe tbody tr th:only-of-type {\n",
       "        vertical-align: middle;\n",
       "    }\n",
       "\n",
       "    .dataframe tbody tr th {\n",
       "        vertical-align: top;\n",
       "    }\n",
       "\n",
       "    .dataframe thead th {\n",
       "        text-align: right;\n",
       "    }\n",
       "</style>\n",
       "<table border=\"1\" class=\"dataframe\">\n",
       "  <thead>\n",
       "    <tr style=\"text-align: right;\">\n",
       "      <th></th>\n",
       "      <th>Species</th>\n",
       "      <th>Weight</th>\n",
       "      <th>Length1</th>\n",
       "      <th>Length2</th>\n",
       "      <th>Length3</th>\n",
       "      <th>Height</th>\n",
       "      <th>Width</th>\n",
       "    </tr>\n",
       "  </thead>\n",
       "  <tbody>\n",
       "    <tr>\n",
       "      <th>0</th>\n",
       "      <td>Bream</td>\n",
       "      <td>242.0</td>\n",
       "      <td>23.2</td>\n",
       "      <td>25.4</td>\n",
       "      <td>30.0</td>\n",
       "      <td>11.5200</td>\n",
       "      <td>4.0200</td>\n",
       "    </tr>\n",
       "    <tr>\n",
       "      <th>1</th>\n",
       "      <td>Bream</td>\n",
       "      <td>290.0</td>\n",
       "      <td>24.0</td>\n",
       "      <td>26.3</td>\n",
       "      <td>31.2</td>\n",
       "      <td>12.4800</td>\n",
       "      <td>4.3056</td>\n",
       "    </tr>\n",
       "    <tr>\n",
       "      <th>2</th>\n",
       "      <td>Bream</td>\n",
       "      <td>340.0</td>\n",
       "      <td>23.9</td>\n",
       "      <td>26.5</td>\n",
       "      <td>31.1</td>\n",
       "      <td>12.3778</td>\n",
       "      <td>4.6961</td>\n",
       "    </tr>\n",
       "    <tr>\n",
       "      <th>3</th>\n",
       "      <td>Bream</td>\n",
       "      <td>363.0</td>\n",
       "      <td>26.3</td>\n",
       "      <td>29.0</td>\n",
       "      <td>33.5</td>\n",
       "      <td>12.7300</td>\n",
       "      <td>4.4555</td>\n",
       "    </tr>\n",
       "    <tr>\n",
       "      <th>4</th>\n",
       "      <td>Bream</td>\n",
       "      <td>430.0</td>\n",
       "      <td>26.5</td>\n",
       "      <td>29.0</td>\n",
       "      <td>34.0</td>\n",
       "      <td>12.4440</td>\n",
       "      <td>5.1340</td>\n",
       "    </tr>\n",
       "  </tbody>\n",
       "</table>\n",
       "</div>"
      ],
      "text/plain": [
       "  Species  Weight  Length1  Length2  Length3   Height   Width\n",
       "0   Bream   242.0     23.2     25.4     30.0  11.5200  4.0200\n",
       "1   Bream   290.0     24.0     26.3     31.2  12.4800  4.3056\n",
       "2   Bream   340.0     23.9     26.5     31.1  12.3778  4.6961\n",
       "3   Bream   363.0     26.3     29.0     33.5  12.7300  4.4555\n",
       "4   Bream   430.0     26.5     29.0     34.0  12.4440  5.1340"
      ]
     },
     "execution_count": 99,
     "metadata": {},
     "output_type": "execute_result"
    }
   ],
   "source": [
    "dataset.head()"
   ]
  },
  {
   "cell_type": "code",
   "execution_count": 100,
   "metadata": {},
   "outputs": [
    {
     "data": {
      "image/png": "[encoded data removed]",
      "text/plain": [
       "<Figure size 432x288 with 1 Axes>"
      ]
     },
     "metadata": {
      "needs_background": "light"
     },
     "output_type": "display_data"
    }
   ],
   "source": [
    "import matplotlib.pyplot as plt\n",
    "plt.scatter(dataset[\"Height\"],dataset[\"Weight\"])\n",
    "plt.show()"
   ]
  },
  {
   "cell_type": "code",
   "execution_count": 101,
   "metadata": {},
   "outputs": [
    {
     "data": {
      "image/png": "[encoded data removed]",
      "text/plain": [
       "<Figure size 432x288 with 1 Axes>"
      ]
     },
     "metadata": {
      "needs_background": "light"
     },
     "output_type": "display_data"
    }
   ],
   "source": [
    "import matplotlib.pyplot as plt\n",
    "plt.scatter(dataset[\"Length1\"],dataset[\"Weight\"])\n",
    "plt.show()"
   ]
  },
  {
   "cell_type": "code",
   "execution_count": 103,
   "metadata": {},
   "outputs": [
    {
     "data": {
      "image/png": "[encoded data removed]",
      "text/plain": [
       "<Figure size 432x288 with 1 Axes>"
      ]
     },
     "metadata": {
      "needs_background": "light"
     },
     "output_type": "display_data"
    }
   ],
   "source": [
    "import matplotlib.pyplot as plt\n",
    "plt.scatter(dataset[\"Width\"],dataset[\"Weight\"])\n",
    "plt.show()"
   ]
  },
  {
   "cell_type": "code",
   "execution_count": 104,
   "metadata": {},
   "outputs": [
    {
     "data": {
      "image/png": "[encoded data removed]",
      "text/plain": [
       "<Figure size 432x288 with 1 Axes>"
      ]
     },
     "metadata": {
      "needs_background": "light"
     },
     "output_type": "display_data"
    }
   ],
   "source": [
    "import matplotlib.pyplot as plt\n",
    "plt.scatter(dataset[\"Species\"],dataset[\"Weight\"])\n",
    "plt.show()"
   ]
  },
  {
   "cell_type": "code",
   "execution_count": null,
   "metadata": {},
   "outputs": [],
   "source": []
  }
 ],
 "metadata": {
  "kernelspec": {
   "display_name": "Python 3",
   "language": "python",
   "name": "python3"
  },
  "language_info": {
   "codemirror_mode": {
    "name": "ipython",
    "version": 3
   },
   "file_extension": ".py",
   "mimetype": "text/x-python",
   "name": "python",
   "nbconvert_exporter": "python",
   "pygments_lexer": "ipython3",
   "version": "3.7.3"
  }
 },
 "nbformat": 4,
 "nbformat_minor": 2
}
