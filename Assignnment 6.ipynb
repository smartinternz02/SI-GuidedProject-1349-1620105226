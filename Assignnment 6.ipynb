{
 "cells": [
  {
   "cell_type": "code",
   "execution_count": 1,
   "metadata": {},
   "outputs": [],
   "source": [
    "from tensorflow.keras.models import Sequential\n",
    "from tensorflow.keras.layers import Dense\n",
    "from tensorflow.keras.layers import Convolution2D\n",
    "from tensorflow.keras.layers import MaxPooling2D\n",
    "from tensorflow.keras.layers import Flatten"
   ]
  },
  {
   "cell_type": "code",
   "execution_count": 2,
   "metadata": {},
   "outputs": [
    {
     "name": "stderr",
     "output_type": "stream",
     "text": [
      "Using TensorFlow backend.\n"
     ]
    }
   ],
   "source": [
    "from keras.preprocessing.image import ImageDataGenerator\n",
    "train_datagen=ImageDataGenerator(rescale=1./255,shear_range=0.2,zoom_range=0.2,horizontal_flip=True)\n",
    "test_datagen=ImageDataGenerator(rescale=1./255)"
   ]
  },
  {
   "cell_type": "code",
   "execution_count": 3,
   "metadata": {},
   "outputs": [
    {
     "name": "stdout",
     "output_type": "stream",
     "text": [
      "Found 1677 images belonging to 5 classes.\n",
      "Found 750 images belonging to 5 classes.\n"
     ]
    }
   ],
   "source": [
    "x_train=train_datagen.flow_from_directory(r\"E:\\AI assignment\\flowers\\trainset\",target_size = (64,64) , batch_size = 32 , class_mode = \"categorical\")\n",
    "x_test=test_datagen.flow_from_directory(r\"E:\\AI assignment\\flowers\\testset\",target_size = (64,64) , batch_size = 32 , class_mode = \"categorical\")"
   ]
  },
  {
   "cell_type": "code",
   "execution_count": 4,
   "metadata": {},
   "outputs": [],
   "source": [
    "model=Sequential()"
   ]
  },
  {
   "cell_type": "code",
   "execution_count": 5,
   "metadata": {},
   "outputs": [
    {
     "name": "stdout",
     "output_type": "stream",
     "text": [
      "WARNING:tensorflow:From C:\\Users\\User\\Music\\New folder\\lib\\site-packages\\tensorflow\\python\\ops\\init_ops.py:1251: calling VarianceScaling.__init__ (from tensorflow.python.ops.init_ops) with dtype is deprecated and will be removed in a future version.\n",
      "Instructions for updating:\n",
      "Call initializer instance with the dtype argument instead of passing it to the constructor\n"
     ]
    }
   ],
   "source": [
    "model.add(Convolution2D(32,(3,3),input_shape=(64,64,3),activation=\"relu\"))"
   ]
  },
  {
   "cell_type": "code",
   "execution_count": 6,
   "metadata": {},
   "outputs": [],
   "source": [
    "model.add(MaxPooling2D(2,2))"
   ]
  },
  {
   "cell_type": "code",
   "execution_count": 7,
   "metadata": {},
   "outputs": [],
   "source": [
    "model.add(Flatten())"
   ]
  },
  {
   "cell_type": "code",
   "execution_count": 8,
   "metadata": {},
   "outputs": [
    {
     "name": "stdout",
     "output_type": "stream",
     "text": [
      "WARNING:tensorflow:From C:\\Users\\User\\Music\\New folder\\lib\\site-packages\\tensorflow\\python\\keras\\initializers.py:119: calling RandomUniform.__init__ (from tensorflow.python.ops.init_ops) with dtype is deprecated and will be removed in a future version.\n",
      "Instructions for updating:\n",
      "Call initializer instance with the dtype argument instead of passing it to the constructor\n"
     ]
    }
   ],
   "source": [
    "model.add(Dense(units=512,activation=\"relu\",kernel_initializer=\"random_uniform\"))"
   ]
  },
  {
   "cell_type": "code",
   "execution_count": 9,
   "metadata": {},
   "outputs": [],
   "source": [
    "model.add(Dense(units=5,activation=\"softmax\",kernel_initializer=\"random_uniform\"))"
   ]
  },
  {
   "cell_type": "code",
   "execution_count": 10,
   "metadata": {},
   "outputs": [],
   "source": [
    "model.compile(\"sgd\",loss=\"categorical_crossentropy\",metrics=[\"accuracy\"])"
   ]
  },
  {
   "cell_type": "code",
   "execution_count": 11,
   "metadata": {},
   "outputs": [
    {
     "name": "stdout",
     "output_type": "stream",
     "text": [
      "Epoch 1/50\n",
      "45/45 [==============================] - 9s 192ms/step - loss: 1.5314 - acc: 0.3089 - val_loss: 1.4637 - val_acc: 0.3297\n",
      "Epoch 2/50\n",
      "45/45 [==============================] - 8s 176ms/step - loss: 1.4091 - acc: 0.3944 - val_loss: 1.3742 - val_acc: 0.4313\n",
      "Epoch 3/50\n",
      "45/45 [==============================] - 7s 166ms/step - loss: 1.3309 - acc: 0.4363 - val_loss: 1.3213 - val_acc: 0.4375\n",
      "Epoch 4/50\n",
      "45/45 [==============================] - 8s 173ms/step - loss: 1.2554 - acc: 0.4437 - val_loss: 1.3531 - val_acc: 0.3938\n",
      "Epoch 5/50\n",
      "45/45 [==============================] - 8s 179ms/step - loss: 1.2486 - acc: 0.4632 - val_loss: 1.3141 - val_acc: 0.4281\n",
      "Epoch 6/50\n",
      "45/45 [==============================] - 7s 160ms/step - loss: 1.2011 - acc: 0.4877 - val_loss: 1.2172 - val_acc: 0.4750\n",
      "Epoch 7/50\n",
      "45/45 [==============================] - 7s 164ms/step - loss: 1.1671 - acc: 0.4982 - val_loss: 1.2277 - val_acc: 0.4609\n",
      "Epoch 8/50\n",
      "45/45 [==============================] - 8s 185ms/step - loss: 1.1264 - acc: 0.5222 - val_loss: 1.2190 - val_acc: 0.4750\n",
      "Epoch 9/50\n",
      "45/45 [==============================] - 8s 180ms/step - loss: 1.1383 - acc: 0.5320 - val_loss: 1.1912 - val_acc: 0.4734\n",
      "Epoch 10/50\n",
      "45/45 [==============================] - 8s 180ms/step - loss: 1.1027 - acc: 0.5574 - val_loss: 1.2102 - val_acc: 0.4875\n",
      "Epoch 11/50\n",
      "45/45 [==============================] - 8s 173ms/step - loss: 1.0869 - acc: 0.5528 - val_loss: 1.2592 - val_acc: 0.4578\n",
      "Epoch 12/50\n",
      "45/45 [==============================] - 8s 180ms/step - loss: 1.0660 - acc: 0.5756 - val_loss: 1.1858 - val_acc: 0.4984\n",
      "Epoch 13/50\n",
      "45/45 [==============================] - 8s 168ms/step - loss: 1.0779 - acc: 0.5632 - val_loss: 1.2547 - val_acc: 0.4922\n",
      "Epoch 14/50\n",
      "45/45 [==============================] - 10s 223ms/step - loss: 1.0605 - acc: 0.5862 - val_loss: 1.3099 - val_acc: 0.4812\n",
      "Epoch 15/50\n",
      "45/45 [==============================] - 10s 219ms/step - loss: 1.0330 - acc: 0.5954 - val_loss: 1.1976 - val_acc: 0.5109\n",
      "Epoch 16/50\n",
      "45/45 [==============================] - 8s 185ms/step - loss: 1.0183 - acc: 0.5972 - val_loss: 1.1807 - val_acc: 0.5000\n",
      "Epoch 17/50\n",
      "45/45 [==============================] - 8s 171ms/step - loss: 1.0141 - acc: 0.5996 - val_loss: 1.1832 - val_acc: 0.5000\n",
      "Epoch 18/50\n",
      "45/45 [==============================] - 8s 181ms/step - loss: 0.9991 - acc: 0.5996 - val_loss: 1.2223 - val_acc: 0.5234\n",
      "Epoch 19/50\n",
      "45/45 [==============================] - 8s 176ms/step - loss: 0.9916 - acc: 0.6017 - val_loss: 1.1944 - val_acc: 0.5156\n",
      "Epoch 20/50\n",
      "45/45 [==============================] - 7s 162ms/step - loss: 0.9926 - acc: 0.6094 - val_loss: 1.1585 - val_acc: 0.5453\n",
      "Epoch 21/50\n",
      "45/45 [==============================] - 10s 228ms/step - loss: 1.0061 - acc: 0.6003 - val_loss: 1.2058 - val_acc: 0.4984\n",
      "Epoch 22/50\n",
      "45/45 [==============================] - 8s 184ms/step - loss: 0.9716 - acc: 0.6172 - val_loss: 1.2489 - val_acc: 0.4703\n",
      "Epoch 23/50\n",
      "45/45 [==============================] - 9s 201ms/step - loss: 0.9474 - acc: 0.6221 - val_loss: 1.2321 - val_acc: 0.4797\n",
      "Epoch 24/50\n",
      "45/45 [==============================] - 9s 192ms/step - loss: 0.9457 - acc: 0.6355 - val_loss: 1.1559 - val_acc: 0.5469\n",
      "Epoch 25/50\n",
      "45/45 [==============================] - 8s 178ms/step - loss: 0.9478 - acc: 0.6292 - val_loss: 1.1516 - val_acc: 0.5281\n",
      "Epoch 26/50\n",
      "45/45 [==============================] - 8s 179ms/step - loss: 0.9464 - acc: 0.6376 - val_loss: 1.2166 - val_acc: 0.5094\n",
      "Epoch 27/50\n",
      "45/45 [==============================] - 7s 166ms/step - loss: 0.9341 - acc: 0.6545 - val_loss: 1.2080 - val_acc: 0.5109\n",
      "Epoch 28/50\n",
      "45/45 [==============================] - 9s 202ms/step - loss: 0.9357 - acc: 0.6481 - val_loss: 1.2164 - val_acc: 0.5266\n",
      "Epoch 29/50\n",
      "45/45 [==============================] - 9s 196ms/step - loss: 0.9137 - acc: 0.6615 - val_loss: 1.2567 - val_acc: 0.4859\n",
      "Epoch 30/50\n",
      "45/45 [==============================] - 9s 207ms/step - loss: 0.9406 - acc: 0.6278 - val_loss: 1.1942 - val_acc: 0.5406\n",
      "Epoch 31/50\n",
      "45/45 [==============================] - 10s 216ms/step - loss: 0.8993 - acc: 0.6755 - val_loss: 1.2324 - val_acc: 0.5406\n",
      "Epoch 32/50\n",
      "45/45 [==============================] - 10s 212ms/step - loss: 0.8867 - acc: 0.6583 - val_loss: 1.1947 - val_acc: 0.5406\n",
      "Epoch 33/50\n",
      "45/45 [==============================] - 8s 170ms/step - loss: 0.8839 - acc: 0.6601 - val_loss: 1.2335 - val_acc: 0.5250\n",
      "Epoch 34/50\n",
      "45/45 [==============================] - 8s 182ms/step - loss: 0.9092 - acc: 0.6545 - val_loss: 1.2255 - val_acc: 0.5094\n",
      "Epoch 35/50\n",
      "45/45 [==============================] - 9s 198ms/step - loss: 0.8678 - acc: 0.6729 - val_loss: 1.1783 - val_acc: 0.5547\n",
      "Epoch 36/50\n",
      "45/45 [==============================] - 8s 173ms/step - loss: 0.8639 - acc: 0.6776 - val_loss: 1.2986 - val_acc: 0.5391\n",
      "Epoch 37/50\n",
      "45/45 [==============================] - 8s 173ms/step - loss: 0.8530 - acc: 0.6763 - val_loss: 1.1638 - val_acc: 0.5594\n",
      "Epoch 38/50\n",
      "45/45 [==============================] - 8s 179ms/step - loss: 0.8897 - acc: 0.6590 - val_loss: 1.3162 - val_acc: 0.4969\n",
      "Epoch 39/50\n",
      "45/45 [==============================] - 7s 164ms/step - loss: 0.8318 - acc: 0.6719 - val_loss: 1.2774 - val_acc: 0.5328\n",
      "Epoch 40/50\n",
      "45/45 [==============================] - 8s 187ms/step - loss: 0.8292 - acc: 0.6882 - val_loss: 1.4024 - val_acc: 0.4594\n",
      "Epoch 41/50\n",
      "45/45 [==============================] - 8s 182ms/step - loss: 0.8343 - acc: 0.6939 - val_loss: 1.2002 - val_acc: 0.5391\n",
      "Epoch 42/50\n",
      "45/45 [==============================] - 8s 186ms/step - loss: 0.8197 - acc: 0.6904 - val_loss: 1.2302 - val_acc: 0.5297\n",
      "Epoch 43/50\n",
      "45/45 [==============================] - 8s 176ms/step - loss: 0.8519 - acc: 0.6840 - val_loss: 1.1922 - val_acc: 0.5531\n",
      "Epoch 44/50\n",
      "45/45 [==============================] - 8s 168ms/step - loss: 0.8251 - acc: 0.6869 - val_loss: 1.2103 - val_acc: 0.5562\n",
      "Epoch 45/50\n",
      "45/45 [==============================] - 8s 180ms/step - loss: 0.7937 - acc: 0.6967 - val_loss: 1.2052 - val_acc: 0.5437\n",
      "Epoch 46/50\n",
      "45/45 [==============================] - 8s 174ms/step - loss: 0.7912 - acc: 0.7000 - val_loss: 1.2932 - val_acc: 0.5016\n",
      "Epoch 47/50\n",
      "45/45 [==============================] - 8s 183ms/step - loss: 0.7999 - acc: 0.6925 - val_loss: 1.2072 - val_acc: 0.5437\n",
      "Epoch 48/50\n",
      "45/45 [==============================] - 8s 183ms/step - loss: 0.8224 - acc: 0.6981 - val_loss: 1.2989 - val_acc: 0.5047\n",
      "Epoch 49/50\n",
      "45/45 [==============================] - 8s 185ms/step - loss: 0.7652 - acc: 0.7241 - val_loss: 1.2194 - val_acc: 0.5375\n",
      "Epoch 50/50\n",
      "45/45 [==============================] - 9s 200ms/step - loss: 0.7843 - acc: 0.6868 - val_loss: 1.2328 - val_acc: 0.5578\n"
     ]
    },
    {
     "data": {
      "text/plain": [
       "<tensorflow.python.keras.callbacks.History at 0x17d93a31c18>"
      ]
     },
     "execution_count": 11,
     "metadata": {},
     "output_type": "execute_result"
    }
   ],
   "source": [
    "model.fit_generator(x_train ,steps_per_epoch = 45,epochs=50, validation_data=x_test ,validation_steps = 20)"
   ]
  },
  {
   "cell_type": "code",
   "execution_count": 12,
   "metadata": {},
   "outputs": [],
   "source": [
    "model.save(\"flowers.h5\")"
   ]
  },
  {
   "cell_type": "code",
   "execution_count": 13,
   "metadata": {},
   "outputs": [],
   "source": [
    "from tensorflow.keras.models import load_model\n",
    "from tensorflow.keras.preprocessing import image\n",
    "import cv2\n",
    "import numpy as np"
   ]
  },
  {
   "cell_type": "code",
   "execution_count": 14,
   "metadata": {},
   "outputs": [],
   "source": [
    "index=[\"daisy\",\"dandelion\",\"rose\",\"sunflower\",\"tulip\"]"
   ]
  },
  {
   "cell_type": "code",
   "execution_count": 15,
   "metadata": {},
   "outputs": [
    {
     "name": "stdout",
     "output_type": "stream",
     "text": [
      "WARNING:tensorflow:From C:\\Users\\User\\Music\\New folder\\lib\\site-packages\\tensorflow\\python\\ops\\init_ops.py:97: calling GlorotUniform.__init__ (from tensorflow.python.ops.init_ops) with dtype is deprecated and will be removed in a future version.\n",
      "Instructions for updating:\n",
      "Call initializer instance with the dtype argument instead of passing it to the constructor\n",
      "WARNING:tensorflow:From C:\\Users\\User\\Music\\New folder\\lib\\site-packages\\tensorflow\\python\\ops\\init_ops.py:97: calling Zeros.__init__ (from tensorflow.python.ops.init_ops) with dtype is deprecated and will be removed in a future version.\n",
      "Instructions for updating:\n",
      "Call initializer instance with the dtype argument instead of passing it to the constructor\n"
     ]
    }
   ],
   "source": [
    "model=load_model(r\"E:\\AI assignment\\flowers.h5\")"
   ]
  },
  {
   "cell_type": "code",
   "execution_count": 16,
   "metadata": {},
   "outputs": [
    {
     "data": {
      "text/plain": [
       "'E:\\\\AI assignment'"
      ]
     },
     "execution_count": 16,
     "metadata": {},
     "output_type": "execute_result"
    }
   ],
   "source": [
    "pwd"
   ]
  },
  {
   "cell_type": "code",
   "execution_count": 22,
   "metadata": {},
   "outputs": [],
   "source": [
    "img = image.load_img(r\"E:\\AI Assignment\\rose.jpg\",target_size = (64,64))"
   ]
  },
  {
   "cell_type": "code",
   "execution_count": 23,
   "metadata": {},
   "outputs": [
    {
     "data": {
      "text/plain": [
       "PIL.Image.Image"
      ]
     },
     "execution_count": 23,
     "metadata": {},
     "output_type": "execute_result"
    }
   ],
   "source": [
    "type(img)"
   ]
  },
  {
   "cell_type": "code",
   "execution_count": 24,
   "metadata": {},
   "outputs": [],
   "source": [
    "x=image.img_to_array(img)"
   ]
  },
  {
   "cell_type": "code",
   "execution_count": 25,
   "metadata": {},
   "outputs": [
    {
     "data": {
      "text/plain": [
       "numpy.ndarray"
      ]
     },
     "execution_count": 25,
     "metadata": {},
     "output_type": "execute_result"
    }
   ],
   "source": [
    "type(x)"
   ]
  },
  {
   "cell_type": "code",
   "execution_count": 26,
   "metadata": {},
   "outputs": [
    {
     "data": {
      "text/plain": [
       "(64, 64, 3)"
      ]
     },
     "execution_count": 26,
     "metadata": {},
     "output_type": "execute_result"
    }
   ],
   "source": [
    "x.shape"
   ]
  },
  {
   "cell_type": "code",
   "execution_count": 27,
   "metadata": {},
   "outputs": [],
   "source": [
    "x=np.expand_dims(x,axis=0)"
   ]
  },
  {
   "cell_type": "code",
   "execution_count": 28,
   "metadata": {},
   "outputs": [
    {
     "data": {
      "text/plain": [
       "(1, 64, 64, 3)"
      ]
     },
     "execution_count": 28,
     "metadata": {},
     "output_type": "execute_result"
    }
   ],
   "source": [
    "x.shape"
   ]
  },
  {
   "cell_type": "code",
   "execution_count": 29,
   "metadata": {},
   "outputs": [],
   "source": [
    "pred=model.predict_classes(x)"
   ]
  },
  {
   "cell_type": "code",
   "execution_count": 30,
   "metadata": {},
   "outputs": [
    {
     "data": {
      "text/plain": [
       "2"
      ]
     },
     "execution_count": 30,
     "metadata": {},
     "output_type": "execute_result"
    }
   ],
   "source": [
    "pred[0]"
   ]
  },
  {
   "cell_type": "code",
   "execution_count": 31,
   "metadata": {},
   "outputs": [
    {
     "name": "stdout",
     "output_type": "stream",
     "text": [
      "rose\n"
     ]
    }
   ],
   "source": [
    "print(index[pred[0]])"
   ]
  },
  {
   "cell_type": "code",
   "execution_count": null,
   "metadata": {},
   "outputs": [],
   "source": []
  }
 ],
 "metadata": {
  "kernelspec": {
   "display_name": "Python 3",
   "language": "python",
   "name": "python3"
  },
  "language_info": {
   "codemirror_mode": {
    "name": "ipython",
    "version": 3
   },
   "file_extension": ".py",
   "mimetype": "text/x-python",
   "name": "python",
   "nbconvert_exporter": "python",
   "pygments_lexer": "ipython3",
   "version": "3.7.3"
  }
 },
 "nbformat": 4,
 "nbformat_minor": 2
}
